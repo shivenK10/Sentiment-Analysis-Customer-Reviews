{
 "cells": [
  {
   "cell_type": "markdown",
   "metadata": {},
   "source": [
    "# **SENTIMENT ANALYSIS OF CUSTIMER REVIEWS**\n",
    "This project performs sentiment analysis on customer reviews using various machine learning and deep learning models. It covers preprocessing, feature extraction, and building models like Logistic Regression, Support Vector Machines (SVM), Artificial Neural Networks (ANN), Long Short-Term Memory Networks (LSTM), and Gated Recurrent Unit Networks (GRU). The dataset consists of 150,000 labeled customer reviews."
   ]
  },
  {
   "cell_type": "markdown",
   "metadata": {},
   "source": [
    "### Import Libraries\n",
    "In this block, all the necessary libraries for preprocessing, machine learning, deep learning, and visualization are imported. These include:\n",
    "- NLTK (Natural Language ToolKit) for natural language processing\n",
    "- Scikit-learn for machine learning models and metrics\n",
    "- TensorFlow for deep learning models\n",
    "- Matplotlib for visualization"
   ]
  },
  {
   "cell_type": "code",
   "execution_count": null,
   "metadata": {},
   "outputs": [
    {
     "name": "stderr",
     "output_type": "stream",
     "text": [
      "2024-11-25 15:54:38.172880: I tensorflow/core/platform/cpu_feature_guard.cc:210] This TensorFlow binary is optimized to use available CPU instructions in performance-critical operations.\n",
      "To enable the following instructions: AVX2 FMA, in other operations, rebuild TensorFlow with the appropriate compiler flags.\n"
     ]
    }
   ],
   "source": [
    "import re\n",
    "import numpy as np\n",
    "import pandas as pd\n",
    "from nltk.tokenize import word_tokenize\n",
    "from nltk.stem import WordNetLemmatizer\n",
    "from nltk.corpus import wordnet\n",
    "from sklearn.model_selection import train_test_split\n",
    "from sklearn.feature_extraction.text import TfidfVectorizer\n",
    "from sklearn.linear_model import LogisticRegression\n",
    "from sklearn.svm import LinearSVC\n",
    "from sklearn.metrics import accuracy_score\n",
    "from tensorflow.keras.models import Sequential\n",
    "from tensorflow.keras.layers import Embedding, Dense, LSTM, GRU, GlobalAveragePooling1D, Dropout\n",
    "from tensorflow.keras.preprocessing.sequence import pad_sequences\n",
    "from tensorflow.keras.preprocessing.text import Tokenizer\n",
    "from tensorflow.keras.optimizers import Adam\n",
    "from tensorflow.keras.callbacks import EarlyStopping\n",
    "import matplotlib.pyplot as plt\n",
    "import nltk\n",
    "\n",
    "nltk.data.path.append('/Users/shiven/nltk_data')"
   ]
  },
  {
   "cell_type": "markdown",
   "metadata": {},
   "source": [
    "### Download the NLTK Data\n",
    "- Necessary NLTK resources like `punkt`, `wordnet`, `averaged_perceptron_tagger`, and `omw-1.4` are downloaded to ensure that tokenization, lemmatization, and POS tagging work correctly."
   ]
  },
  {
   "cell_type": "code",
   "execution_count": null,
   "metadata": {},
   "outputs": [
    {
     "name": "stderr",
     "output_type": "stream",
     "text": [
      "[nltk_data] Downloading package punkt to /Users/shiven/nltk_data...\n",
      "[nltk_data]   Package punkt is already up-to-date!\n",
      "[nltk_data] Downloading package wordnet to /Users/shiven/nltk_data...\n",
      "[nltk_data]   Package wordnet is already up-to-date!\n",
      "[nltk_data] Downloading package averaged_perceptron_tagger to\n",
      "[nltk_data]     /Users/shiven/nltk_data...\n",
      "[nltk_data]   Package averaged_perceptron_tagger is already up-to-\n",
      "[nltk_data]       date!\n",
      "[nltk_data] Downloading package omw-1.4 to /Users/shiven/nltk_data...\n",
      "[nltk_data]   Unzipping corpora/omw-1.4.zip.\n",
      "[nltk_data] Downloading package averaged_perceptron_tagger_eng to\n",
      "[nltk_data]     /Users/shiven/nltk_data...\n",
      "[nltk_data]   Package averaged_perceptron_tagger_eng is already up-to-\n",
      "[nltk_data]       date!\n"
     ]
    },
    {
     "data": {
      "text/plain": [
       "True"
      ]
     },
     "execution_count": 2,
     "metadata": {},
     "output_type": "execute_result"
    }
   ],
   "source": [
    "nltk.download('punkt')\n",
    "nltk.download('wordnet')\n",
    "nltk.download('averaged_perceptron_tagger')\n",
    "nltk.download('omw-1.4')\n",
    "nltk.download('averaged_perceptron_tagger_eng')"
   ]
  },
  {
   "cell_type": "markdown",
   "metadata": {},
   "source": [
    "### Initialize Lemmatizer and Helper Functions\n",
    "- **WordNet Lemmatizer**: The WordNet Lemmatizer is a tool from NLTK that reduces words to their base or root form, called the **lemma**. Unlike stemming, which simply removes prefixes or suffixes, lemmatization considers the word's meaning and its part of speech (POS) to produce a linguistically accurate root form. For example:\n",
    "  - \"running\" → \"run\" (if it's a verb)\n",
    "  - \"better\" → \"good\" (if it's an adjective)\n",
    "\n",
    "- **Why Use WordNet Lemmatizer?**\n",
    "  - It ensures that words like \"running\", \"runs\", and \"ran\" are all normalized to \"run\", improving the quality of text analysis.\n",
    "  - It works with WordNet, a lexical database for the English language, to accurately find the base form based on the word's context and POS.\n",
    "\n",
    "- **Helper Function (`get_wordnet_pos`)**:\n",
    "  - The `get_wordnet_pos` function converts POS tags (e.g., \"NN\" for nouns, \"VB\" for verbs) from the NLTK POS tagger into WordNet-compatible tags. This mapping is essential because the lemmatizer requires POS information to properly lemmatize words.\n",
    "  - Example Mapping:\n",
    "    - NLTK Tag `JJ` → WordNet Tag `ADJ` (adjective)\n",
    "    - NLTK Tag `NN` → WordNet Tag `NOUN`\n",
    "    - NLTK Tag `VB` → WordNet Tag `VERB`\n",
    "    - NLTK Tag `RB` → WordNet Tag `ADV` (adverb)\n",
    "    \n",
    "This ensures the WordNet Lemmatizer can accurately handle words based on their grammatical role in the sentence."
   ]
  },
  {
   "cell_type": "code",
   "execution_count": null,
   "metadata": {},
   "outputs": [],
   "source": [
    "lemmatizer = WordNetLemmatizer()\n",
    "\n",
    "def get_wordnet_pos(word):\n",
    "    tag = nltk.pos_tag([word], lang=\"eng\")[0][1][0].upper()\n",
    "    tag_dict = {'J': wordnet.ADJ, 'N': wordnet.NOUN, 'V': wordnet.VERB, 'R': wordnet.ADV}\n",
    "    return tag_dict.get(tag, wordnet.NOUN)"
   ]
  },
  {
   "cell_type": "markdown",
   "metadata": {},
   "source": [
    "### Text Preprocessing with Lemmatization\n",
    "- A preprocessing function is defined to clean the text data.\n",
    "- Steps include:\n",
    "  1. Lowercasing the text.\n",
    "  2. Removing special characters and numbers.\n",
    "  3. Tokenizing the text.\n",
    "  4. Lemmatizing each token using the `get_wordnet_pos` helper function.\n",
    "- The function includes error handling to debug any issues with specific rows."
   ]
  },
  {
   "cell_type": "code",
   "execution_count": null,
   "metadata": {},
   "outputs": [],
   "source": [
    "def preprocess_text(text):\n",
    "    try:\n",
    "        text = text.lower()\n",
    "        text = re.sub(r'[^\\w\\s]', '', text)  \n",
    "        text = re.sub(r'\\d+', '', text)  \n",
    "        tokens = word_tokenize(text)  \n",
    "        lemmatized_tokens = [lemmatizer.lemmatize(word, get_wordnet_pos(word)) for word in tokens]  \n",
    "        return ' '.join(lemmatized_tokens)\n",
    "    except Exception as e:\n",
    "        print(f\"Error processing text: {text}\")\n",
    "        print(f\"Exception: {e}\")\n",
    "        return text"
   ]
  },
  {
   "cell_type": "markdown",
   "metadata": {},
   "source": [
    "### Load Dataset\n",
    "- The dataset is loaded using `pandas`.\n",
    "- The size of the dataset and the first few rows are displayed.\n",
    "- Class distributions are printed to understand the balance between labels."
   ]
  },
  {
   "cell_type": "code",
   "execution_count": null,
   "metadata": {},
   "outputs": [
    {
     "name": "stdout",
     "output_type": "stream",
     "text": [
      "Dataset size: 150000\n",
      "   label                                               text\n",
      "0      0  Reference Yes, Learning or Instruction No: I p...\n",
      "1      0  NO!!!!!!I will give it 1 star.: This doll is n...\n",
      "2      0  Neat Features/Uncomfortable: I bought this wit...\n",
      "3      1  Progressive-Underground divas??? where's the v...\n",
      "4      0  The theif who stole a week.: What a stinker! I...\n",
      "Class counts:\n",
      "label\n",
      "0    75034\n",
      "1    74966\n",
      "Name: count, dtype: int64\n"
     ]
    }
   ],
   "source": [
    "data = pd.read_csv('reviews.csv')   # replace with your dataset file name and path\n",
    "print(f\"Dataset size: {len(data)}\")\n",
    "print(data.head())\n",
    "\n",
    "class_counts = data['label'].value_counts()\n",
    "print(f\"Class counts:\\n{class_counts}\")"
   ]
  },
  {
   "cell_type": "markdown",
   "metadata": {},
   "source": [
    "### Apply Preprocessing to the Dataset\n",
    "- Null values in the `text` column are replaced with empty strings.\n",
    "- All entries in the `text` column are converted to strings.\n",
    "- The `preprocess_text` function is applied to the `text` column to clean and preprocess the data."
   ]
  },
  {
   "cell_type": "code",
   "execution_count": null,
   "metadata": {},
   "outputs": [],
   "source": [
    "data['text'] = data['text'].fillna('') \n",
    "data['text'] = data['text'].astype(str) \n",
    "data['text'] = data['text'].apply(preprocess_text)"
   ]
  },
  {
   "cell_type": "markdown",
   "metadata": {},
   "source": [
    "### Tokenization\n",
    "- **What is Tokenization?**\n",
    "  - Tokenization is the process of breaking a stream of text into smaller units called **tokens**. These tokens can be words, phrases, or even characters, depending on the application.\n",
    "  - For example:\n",
    "    - Sentence: \"I love programming!\"\n",
    "    - Tokens: [\"I\", \"love\", \"programming\", \"!\"]\n",
    "\n",
    "  - Tokenization is a crucial preprocessing step in NLP tasks, as it transforms raw text into a structured format that can be understood by machine learning models.\n",
    "\n",
    "- **Keras's `Tokenizer`**:\n",
    "  - Keras provides a `Tokenizer` class to preprocess text data for deep learning models. It converts text into sequences of integers, where each integer represents a unique word in the vocabulary.\n",
    "  - Key Features of `Tokenizer`:\n",
    "    1. **Word Indexing**:\n",
    "       - The `Tokenizer` creates a dictionary (`word_index`) that maps each unique word to an integer.\n",
    "       - Example: {\"I\": 1, \"love\": 2, \"programming\": 3}\n",
    "    2. **Text-to-Sequence Conversion**:\n",
    "       - It converts each sentence into a sequence of integers based on the `word_index`.\n",
    "       - Example: \"I love programming\" → [1, 2, 3]\n",
    "    3. **Handles Out-of-Vocabulary Words**:\n",
    "       - Words that are not in the `word_index` can be mapped to a special \"out of vocabulary\" (OOV) token, ensuring robustness.\n",
    "    4. **Frequency-based Filtering**:\n",
    "       - You can limit the vocabulary size to the `num_words` most frequent words, which reduces noise from rare words.\n",
    "\n",
    "- **Why Use Keras's `Tokenizer`?**\n",
    "  - It simplifies the process of converting text data into numerical data, which is essential for deep learning models.\n",
    "  - It supports preprocessing for large datasets and integrates seamlessly with other Keras tools, such as embedding layers.\n",
    "\n",
    "- **Output of Tokenization**:\n",
    "  - After applying the `Tokenizer`:\n",
    "    1. Each document in the dataset is represented as a list of integers (word sequences).\n",
    "    2. The `word_index` provides a mapping of unique words to integers.\n",
    "    3. The number of unique tokens in the dataset is displayed, giving insight into the vocabulary size.\n",
    "\n",
    "This step is crucial for preparing the text data for embedding layers and other deep learning architectures."
   ]
  },
  {
   "cell_type": "code",
   "execution_count": null,
   "metadata": {},
   "outputs": [
    {
     "name": "stdout",
     "output_type": "stream",
     "text": [
      "Number of unique tokens: 218265\n"
     ]
    }
   ],
   "source": [
    "tokenizer = Tokenizer()\n",
    "tokenizer.fit_on_texts(data['text'])\n",
    "sequences = tokenizer.texts_to_sequences(data['text'])\n",
    "word_index = tokenizer.word_index\n",
    "print(f\"Number of unique tokens: {len(word_index)}\")"
   ]
  },
  {
   "cell_type": "markdown",
   "metadata": {},
   "source": [
    "### Padding Sequences\n",
    "- The tokenized sequences are padded to ensure uniform length using Keras's `pad_sequences`.\n",
    "- This step is critical for feeding the data into deep learning models.\n"
   ]
  },
  {
   "cell_type": "code",
   "execution_count": null,
   "metadata": {},
   "outputs": [],
   "source": [
    "max_length = 100\n",
    "padded_sequences = pad_sequences(sequences, maxlen=max_length, padding='post', truncating='post')"
   ]
  },
  {
   "cell_type": "code",
   "execution_count": null,
   "metadata": {},
   "outputs": [],
   "source": [
    "X_train, X_test, y_train, y_test = train_test_split(padded_sequences, data['label'], test_size=0.2, random_state=42)"
   ]
  },
  {
   "cell_type": "markdown",
   "metadata": {},
   "source": [
    "### Load GloVe Embeddings\n",
    "\n",
    "- **What is GloVe?**\n",
    "  - GloVe (Global Vectors for Word Representation) is a popular method for obtaining word embeddings, which are dense vector representations of words in a continuous vector space.\n",
    "  - Developed by researchers at Stanford, GloVe is based on the principle of using word co-occurrence statistics in a large text corpus to learn meaningful vector representations for words.\n",
    "  - Pretrained GloVe embeddings, such as `glove.6B.100d`, provide vector representations for words trained on massive corpora like Wikipedia and Gigaword datasets.\n",
    "\n",
    "- **Principle Behind GloVe**:\n",
    "  - GloVe is designed to learn word vectors such that the dot product (or cosine similarity) of two word vectors corresponds to the log-probability of their co-occurrence in a corpus.\n",
    "  - Words that frequently co-occur in similar contexts will have similar vector representations, capturing their semantic similarity.\n",
    "  - For example:\n",
    "    - Words like \"king\" and \"queen\" are closer in the embedding space because they share similar contexts in the corpus.\n",
    "    - The analogy `king - man + woman ≈ queen` arises naturally due to the embedding's structure.\n",
    "    \n",
    "- **Why Use GloVe?**\n",
    "  - **Semantic Relationships**:\n",
    "    - GloVe embeddings capture semantic similarity and relationships between words.\n",
    "    - For example, \"Paris\" - \"France\" + \"Italy\" ≈ \"Rome\".\n",
    "  - **Pretrained on Large Datasets**:\n",
    "    - Pretrained GloVe embeddings are available for various dimensions (e.g., 50d, 100d, 200d, 300d) and corpora, saving time and computational resources.\n",
    "  - **Dense and Continuous Representations**:\n",
    "    - GloVe embeddings represent each word as a fixed-length dense vector, suitable for machine learning models.\n",
    "\n",
    "- **Embedding Matrix**:\n",
    "  - After loading GloVe embeddings, an **embedding matrix** is created where:\n",
    "    - Rows correspond to words in the dataset vocabulary.\n",
    "    - Columns correspond to the vector dimensions (e.g., 100 for `glove.6B.100d`).\n",
    "  - Words missing from GloVe embeddings are initialized with zeros.\n",
    "\n",
    "- **Applications of GloVe**:\n",
    "  - Sentiment analysis, machine translation, question answering, and more.\n",
    "  - Improves model performance by providing a meaningful starting point for word representations.\n",
    "\n",
    "This step prepares the embedding matrix, which serves as input to the embedding layer in the deep learning models."
   ]
  },
  {
   "cell_type": "code",
   "execution_count": null,
   "metadata": {},
   "outputs": [],
   "source": [
    "embedding_index = {}\n",
    "glove_file = '/Users/shiven/Documents/glove.6B/glove.6B.100d.txt'\n",
    "with open(glove_file, 'r', encoding='utf-8') as f:\n",
    "    for line in f:\n",
    "        values = line.split()\n",
    "        word = values[0]\n",
    "        coefs = np.asarray(values[1:], dtype='float32')\n",
    "        embedding_index[word] = coefs\n",
    "\n",
    "embedding_dim = 100\n",
    "embedding_matrix = np.zeros((len(word_index) + 1, embedding_dim))\n",
    "for word, i in word_index.items():\n",
    "    embedding_vector = embedding_index.get(word)\n",
    "    if embedding_vector is not None:\n",
    "        embedding_matrix[i] = embedding_vector"
   ]
  },
  {
   "cell_type": "markdown",
   "metadata": {},
   "source": [
    "### Constructing Feature Matrix by TF-IDF\n",
    "TF = Term Frequency , IDF = Inverse Document Frequency\n",
    "tf-idf(i,j)= tf(i,j)*idf(i,j)\n",
    "\n",
    "idf(i) = log[(Total number of docs)/(Number of docs in which term occurs)]"
   ]
  },
  {
   "cell_type": "code",
   "execution_count": null,
   "metadata": {},
   "outputs": [],
   "source": [
    "tfidf = TfidfVectorizer(max_features=5000)\n",
    "X_tfidf = tfidf.fit_transform(data['text'])\n",
    "X_train_tfidf, X_test_tfidf, y_train_tfidf, y_test_tfidf = train_test_split(X_tfidf, data['label'], test_size=0.2, random_state=42)"
   ]
  },
  {
   "cell_type": "markdown",
   "metadata": {},
   "source": [
    "### Logistic Regression\n",
    "- A Logistic Regression model is trained on the TF-IDF features.\n",
    "- The model's accuracy on the test set is printed.\n",
    "### Support Vector Machine (SVM)\n",
    "- A LinearSVC model is trained on the TF-IDF features.\n",
    "- The model's accuracy on the test set is printed.\n"
   ]
  },
  {
   "cell_type": "code",
   "execution_count": null,
   "metadata": {},
   "outputs": [
    {
     "name": "stdout",
     "output_type": "stream",
     "text": [
      "Logistic Regression Accuracy: 0.8857666666666667\n"
     ]
    },
    {
     "name": "stderr",
     "output_type": "stream",
     "text": [
      "/Library/Frameworks/Python.framework/Versions/3.9/lib/python3.9/site-packages/sklearn/svm/_classes.py:31: FutureWarning: The default value of `dual` will change from `True` to `'auto'` in 1.5. Set the value of `dual` explicitly to suppress the warning.\n",
      "  warnings.warn(\n"
     ]
    },
    {
     "name": "stdout",
     "output_type": "stream",
     "text": [
      "SVM Accuracy: 0.8860666666666667\n"
     ]
    }
   ],
   "source": [
    "lr = LogisticRegression(max_iter=1000)\n",
    "lr.fit(X_train_tfidf, y_train_tfidf)\n",
    "lr_predictions = lr.predict(X_test_tfidf)\n",
    "print(f\"Logistic Regression Accuracy: {accuracy_score(y_test_tfidf, lr_predictions)}\")\n",
    "\n",
    "svm = LinearSVC()\n",
    "svm.fit(X_train_tfidf, y_train_tfidf)\n",
    "svm_predictions = svm.predict(X_test_tfidf)\n",
    "print(f\"SVM Accuracy: {accuracy_score(y_test_tfidf, svm_predictions)}\")"
   ]
  },
  {
   "cell_type": "markdown",
   "metadata": {},
   "source": [
    "### Artificial Neural Networks ANN\n",
    "\n",
    "This code builds and trains an artificial neural network (ANN) for binary text classification using TensorFlow and Keras. The model begins with an embedding layer initialized with pre-trained embeddings (embedding_matrix), which converts input text indices into dense vectors. A global average pooling layer follows to reduce the sequence of embeddings into a single vector. Two dense layers with ReLU activation and dropout regularization are then applied to introduce non-linearity and prevent overfitting. The final output layer uses a sigmoid activation to produce a probability score for classification.\n",
    "\n",
    "The model is compiled with the Adam optimizer, binary crossentropy loss, and accuracy as the evaluation metric. Early stopping is used to monitor validation loss, halting training if no improvement is seen after three epochs while restoring the best weights. Training is conducted over a maximum of 15 epochs with a batch size of 128, leveraging training and validation data for evaluation. This setup ensures efficient training and robust performance."
   ]
  },
  {
   "cell_type": "code",
   "execution_count": null,
   "metadata": {},
   "outputs": [
    {
     "name": "stdout",
     "output_type": "stream",
     "text": [
      "Epoch 1/15\n",
      "\u001b[1m938/938\u001b[0m \u001b[32m━━━━━━━━━━━━━━━━━━━━\u001b[0m\u001b[37m\u001b[0m \u001b[1m193s\u001b[0m 204ms/step - accuracy: 0.7511 - loss: 0.4787 - val_accuracy: 0.8779 - val_loss: 0.2902\n",
      "Epoch 2/15\n",
      "\u001b[1m938/938\u001b[0m \u001b[32m━━━━━━━━━━━━━━━━━━━━\u001b[0m\u001b[37m\u001b[0m \u001b[1m389s\u001b[0m 415ms/step - accuracy: 0.8911 - loss: 0.2700 - val_accuracy: 0.8721 - val_loss: 0.3002\n",
      "Epoch 3/15\n",
      "\u001b[1m938/938\u001b[0m \u001b[32m━━━━━━━━━━━━━━━━━━━━\u001b[0m\u001b[37m\u001b[0m \u001b[1m639s\u001b[0m 681ms/step - accuracy: 0.9109 - loss: 0.2288 - val_accuracy: 0.8839 - val_loss: 0.2789\n",
      "Epoch 4/15\n",
      "\u001b[1m938/938\u001b[0m \u001b[32m━━━━━━━━━━━━━━━━━━━━\u001b[0m\u001b[37m\u001b[0m \u001b[1m844s\u001b[0m 900ms/step - accuracy: 0.9249 - loss: 0.1963 - val_accuracy: 0.8779 - val_loss: 0.3086\n",
      "Epoch 5/15\n",
      "\u001b[1m938/938\u001b[0m \u001b[32m━━━━━━━━━━━━━━━━━━━━\u001b[0m\u001b[37m\u001b[0m \u001b[1m193s\u001b[0m 206ms/step - accuracy: 0.9352 - loss: 0.1728 - val_accuracy: 0.8794 - val_loss: 0.2998\n",
      "Epoch 6/15\n",
      "\u001b[1m938/938\u001b[0m \u001b[32m━━━━━━━━━━━━━━━━━━━━\u001b[0m\u001b[37m\u001b[0m \u001b[1m189s\u001b[0m 202ms/step - accuracy: 0.9453 - loss: 0.1472 - val_accuracy: 0.8729 - val_loss: 0.3464\n"
     ]
    },
    {
     "data": {
      "text/plain": [
       "<keras.src.callbacks.history.History at 0x7fa1f684fbe0>"
      ]
     },
     "execution_count": 13,
     "metadata": {},
     "output_type": "execute_result"
    }
   ],
   "source": [
    "ann_model = Sequential([\n",
    "    Embedding(input_dim=len(word_index)+1, output_dim=100, weights=[embedding_matrix], trainable=True),\n",
    "    GlobalAveragePooling1D(),\n",
    "    Dense(128, activation='relu'),\n",
    "    Dropout(0.4),\n",
    "    Dense(64, activation='relu'),\n",
    "    Dropout(0.3),\n",
    "    Dense(1, activation='sigmoid')\n",
    "])\n",
    "ann_model.compile(optimizer=Adam(learning_rate=0.001), loss='binary_crossentropy', metrics=['accuracy'])\n",
    "\n",
    "early_stopping = EarlyStopping(monitor='val_loss', patience=3, restore_best_weights=True)\n",
    "\n",
    "ann_model.fit(X_train, y_train, epochs=15, batch_size=128, validation_data=(X_test, y_test), callbacks=[early_stopping])\n"
   ]
  },
  {
   "cell_type": "markdown",
   "metadata": {},
   "source": [
    "### Long Short Term Memory LSTM\n",
    "\n",
    "This code builds an LSTM-based model for binary text classification. It starts with a pre-trained, non-trainable embedding layer (embedding_matrix) that converts input indices into dense vectors. An LSTM layer with 128 units processes the sequences to capture contextual dependencies. A dense layer with 64 neurons and ReLU activation introduces non-linearity, followed by a sigmoid-activated output layer for classification.\n",
    "\n",
    "The model is compiled with the Adam optimizer, binary crossentropy loss, and accuracy as the metric. It is trained for up to 15 epochs with a batch size of 64, using training data (X_train, y_train) and validated on test data (X_test, y_test). This setup is designed for handling sequence data effectively and achieving robust classification results."
   ]
  },
  {
   "cell_type": "code",
   "execution_count": null,
   "metadata": {},
   "outputs": [
    {
     "name": "stderr",
     "output_type": "stream",
     "text": [
      "/Library/Frameworks/Python.framework/Versions/3.9/lib/python3.9/site-packages/keras/src/layers/core/embedding.py:90: UserWarning: Argument `input_length` is deprecated. Just remove it.\n",
      "  warnings.warn(\n"
     ]
    },
    {
     "name": "stdout",
     "output_type": "stream",
     "text": [
      "Epoch 1/15\n",
      "\u001b[1m1875/1875\u001b[0m \u001b[32m━━━━━━━━━━━━━━━━━━━━\u001b[0m\u001b[37m\u001b[0m \u001b[1m105s\u001b[0m 55ms/step - accuracy: 0.5568 - loss: 0.6800 - val_accuracy: 0.8039 - val_loss: 0.4621\n",
      "Epoch 2/15\n",
      "\u001b[1m1875/1875\u001b[0m \u001b[32m━━━━━━━━━━━━━━━━━━━━\u001b[0m\u001b[37m\u001b[0m \u001b[1m110s\u001b[0m 59ms/step - accuracy: 0.8405 - loss: 0.3724 - val_accuracy: 0.8763 - val_loss: 0.2917\n",
      "Epoch 3/15\n",
      "\u001b[1m1875/1875\u001b[0m \u001b[32m━━━━━━━━━━━━━━━━━━━━\u001b[0m\u001b[37m\u001b[0m \u001b[1m109s\u001b[0m 58ms/step - accuracy: 0.8813 - loss: 0.2834 - val_accuracy: 0.8827 - val_loss: 0.2804\n",
      "Epoch 4/15\n",
      "\u001b[1m1875/1875\u001b[0m \u001b[32m━━━━━━━━━━━━━━━━━━━━\u001b[0m\u001b[37m\u001b[0m \u001b[1m110s\u001b[0m 59ms/step - accuracy: 0.8944 - loss: 0.2554 - val_accuracy: 0.8936 - val_loss: 0.2542\n",
      "Epoch 5/15\n",
      "\u001b[1m1875/1875\u001b[0m \u001b[32m━━━━━━━━━━━━━━━━━━━━\u001b[0m\u001b[37m\u001b[0m \u001b[1m107s\u001b[0m 57ms/step - accuracy: 0.9068 - loss: 0.2276 - val_accuracy: 0.9010 - val_loss: 0.2398\n",
      "Epoch 6/15\n",
      "\u001b[1m1875/1875\u001b[0m \u001b[32m━━━━━━━━━━━━━━━━━━━━\u001b[0m\u001b[37m\u001b[0m \u001b[1m111s\u001b[0m 59ms/step - accuracy: 0.9134 - loss: 0.2137 - val_accuracy: 0.9037 - val_loss: 0.2357\n",
      "Epoch 7/15\n",
      "\u001b[1m1875/1875\u001b[0m \u001b[32m━━━━━━━━━━━━━━━━━━━━\u001b[0m\u001b[37m\u001b[0m \u001b[1m112s\u001b[0m 60ms/step - accuracy: 0.9228 - loss: 0.1957 - val_accuracy: 0.9078 - val_loss: 0.2297\n",
      "Epoch 8/15\n",
      "\u001b[1m1875/1875\u001b[0m \u001b[32m━━━━━━━━━━━━━━━━━━━━\u001b[0m\u001b[37m\u001b[0m \u001b[1m111s\u001b[0m 59ms/step - accuracy: 0.9301 - loss: 0.1795 - val_accuracy: 0.9088 - val_loss: 0.2283\n",
      "Epoch 9/15\n",
      "\u001b[1m1875/1875\u001b[0m \u001b[32m━━━━━━━━━━━━━━━━━━━━\u001b[0m\u001b[37m\u001b[0m \u001b[1m118s\u001b[0m 63ms/step - accuracy: 0.9392 - loss: 0.1619 - val_accuracy: 0.9081 - val_loss: 0.2304\n",
      "Epoch 10/15\n",
      "\u001b[1m1875/1875\u001b[0m \u001b[32m━━━━━━━━━━━━━━━━━━━━\u001b[0m\u001b[37m\u001b[0m \u001b[1m106s\u001b[0m 57ms/step - accuracy: 0.9472 - loss: 0.1419 - val_accuracy: 0.9083 - val_loss: 0.2351\n",
      "Epoch 11/15\n",
      "\u001b[1m1875/1875\u001b[0m \u001b[32m━━━━━━━━━━━━━━━━━━━━\u001b[0m\u001b[37m\u001b[0m \u001b[1m112s\u001b[0m 60ms/step - accuracy: 0.9538 - loss: 0.1284 - val_accuracy: 0.9061 - val_loss: 0.2521\n",
      "Epoch 12/15\n",
      "\u001b[1m1875/1875\u001b[0m \u001b[32m━━━━━━━━━━━━━━━━━━━━\u001b[0m\u001b[37m\u001b[0m \u001b[1m120s\u001b[0m 64ms/step - accuracy: 0.9591 - loss: 0.1158 - val_accuracy: 0.9040 - val_loss: 0.2731\n",
      "Epoch 13/15\n",
      "\u001b[1m1875/1875\u001b[0m \u001b[32m━━━━━━━━━━━━━━━━━━━━\u001b[0m\u001b[37m\u001b[0m \u001b[1m119s\u001b[0m 63ms/step - accuracy: 0.9649 - loss: 0.1026 - val_accuracy: 0.9037 - val_loss: 0.2767\n",
      "Epoch 14/15\n",
      "\u001b[1m1875/1875\u001b[0m \u001b[32m━━━━━━━━━━━━━━━━━━━━\u001b[0m\u001b[37m\u001b[0m \u001b[1m121s\u001b[0m 64ms/step - accuracy: 0.9698 - loss: 0.0904 - val_accuracy: 0.9027 - val_loss: 0.3033\n",
      "Epoch 15/15\n",
      "\u001b[1m1875/1875\u001b[0m \u001b[32m━━━━━━━━━━━━━━━━━━━━\u001b[0m\u001b[37m\u001b[0m \u001b[1m118s\u001b[0m 63ms/step - accuracy: 0.9755 - loss: 0.0764 - val_accuracy: 0.9010 - val_loss: 0.3334\n"
     ]
    },
    {
     "data": {
      "text/plain": [
       "<keras.src.callbacks.history.History at 0x7fa1f6c191c0>"
      ]
     },
     "execution_count": 14,
     "metadata": {},
     "output_type": "execute_result"
    }
   ],
   "source": [
    "lstm_model = Sequential([\n",
    "    Embedding(input_dim=len(word_index)+1, output_dim=embedding_dim, weights=[embedding_matrix], input_length=max_length, trainable=False),\n",
    "    LSTM(128),\n",
    "    Dense(64, activation='relu'),\n",
    "    Dense(1, activation='sigmoid')\n",
    "])\n",
    "lstm_model.compile(optimizer='adam', loss='binary_crossentropy', metrics=['accuracy'])\n",
    "lstm_model.fit(X_train, y_train, epochs=15, batch_size=64, validation_data=(X_test, y_test))\n"
   ]
  },
  {
   "cell_type": "markdown",
   "metadata": {},
   "source": [
    "### Gated Recurrent Unit GRU\n",
    "\n",
    "This code defines a Gated Recurrent Unit (GRU) model for binary text classification. It starts with a pre-trained embedding layer (embedding_matrix), which converts input indices into dense vectors. The embeddings are non-trainable, preserving the pre-trained representations. A GRU layer with 128 units follows, effectively capturing sequential dependencies in the text data.\n",
    "\n",
    "Next, a dense layer with 64 neurons and ReLU activation introduces non-linearity, followed by an output layer with a sigmoid activation function to generate probabilities for binary classification. The model is compiled using the Adam optimizer, binary crossentropy as the loss function, and accuracy as the evaluation metric.\n",
    "\n",
    "The model is trained for a maximum of 15 epochs with a batch size of 32, using the training data (X_train, y_train) and validated on the test data (X_test, y_test). This architecture is optimized for processing sequential data, ensuring effective classification performance."
   ]
  },
  {
   "cell_type": "code",
   "execution_count": null,
   "metadata": {},
   "outputs": [
    {
     "name": "stdout",
     "output_type": "stream",
     "text": [
      "Epoch 1/15\n",
      "\u001b[1m3750/3750\u001b[0m \u001b[32m━━━━━━━━━━━━━━━━━━━━\u001b[0m\u001b[37m\u001b[0m \u001b[1m137s\u001b[0m 36ms/step - accuracy: 0.7102 - loss: 0.5008 - val_accuracy: 0.8908 - val_loss: 0.2685\n",
      "Epoch 2/15\n",
      "\u001b[1m3750/3750\u001b[0m \u001b[32m━━━━━━━━━━━━━━━━━━━━\u001b[0m\u001b[37m\u001b[0m \u001b[1m135s\u001b[0m 36ms/step - accuracy: 0.8937 - loss: 0.2551 - val_accuracy: 0.9009 - val_loss: 0.2377\n",
      "Epoch 3/15\n",
      "\u001b[1m3750/3750\u001b[0m \u001b[32m━━━━━━━━━━━━━━━━━━━━\u001b[0m\u001b[37m\u001b[0m \u001b[1m144s\u001b[0m 38ms/step - accuracy: 0.9103 - loss: 0.2204 - val_accuracy: 0.9128 - val_loss: 0.2192\n",
      "Epoch 4/15\n",
      "\u001b[1m3750/3750\u001b[0m \u001b[32m━━━━━━━━━━━━━━━━━━━━\u001b[0m\u001b[37m\u001b[0m \u001b[1m128s\u001b[0m 34ms/step - accuracy: 0.9262 - loss: 0.1863 - val_accuracy: 0.9153 - val_loss: 0.2143\n",
      "Epoch 5/15\n",
      "\u001b[1m3750/3750\u001b[0m \u001b[32m━━━━━━━━━━━━━━━━━━━━\u001b[0m\u001b[37m\u001b[0m \u001b[1m135s\u001b[0m 36ms/step - accuracy: 0.9380 - loss: 0.1625 - val_accuracy: 0.9143 - val_loss: 0.2186\n",
      "Epoch 6/15\n",
      "\u001b[1m3750/3750\u001b[0m \u001b[32m━━━━━━━━━━━━━━━━━━━━\u001b[0m\u001b[37m\u001b[0m \u001b[1m1937s\u001b[0m 517ms/step - accuracy: 0.9496 - loss: 0.1372 - val_accuracy: 0.9130 - val_loss: 0.2264\n",
      "Epoch 7/15\n",
      "\u001b[1m3750/3750\u001b[0m \u001b[32m━━━━━━━━━━━━━━━━━━━━\u001b[0m\u001b[37m\u001b[0m \u001b[1m133s\u001b[0m 35ms/step - accuracy: 0.9587 - loss: 0.1159 - val_accuracy: 0.9102 - val_loss: 0.2502\n",
      "Epoch 8/15\n",
      "\u001b[1m3750/3750\u001b[0m \u001b[32m━━━━━━━━━━━━━━━━━━━━\u001b[0m\u001b[37m\u001b[0m \u001b[1m132s\u001b[0m 35ms/step - accuracy: 0.9666 - loss: 0.0957 - val_accuracy: 0.9051 - val_loss: 0.2837\n",
      "Epoch 9/15\n",
      "\u001b[1m3750/3750\u001b[0m \u001b[32m━━━━━━━━━━━━━━━━━━━━\u001b[0m\u001b[37m\u001b[0m \u001b[1m133s\u001b[0m 35ms/step - accuracy: 0.9722 - loss: 0.0818 - val_accuracy: 0.9068 - val_loss: 0.2788\n",
      "Epoch 10/15\n",
      "\u001b[1m3750/3750\u001b[0m \u001b[32m━━━━━━━━━━━━━━━━━━━━\u001b[0m\u001b[37m\u001b[0m \u001b[1m133s\u001b[0m 35ms/step - accuracy: 0.9764 - loss: 0.0708 - val_accuracy: 0.9016 - val_loss: 0.3134\n",
      "Epoch 11/15\n",
      "\u001b[1m3750/3750\u001b[0m \u001b[32m━━━━━━━━━━━━━━━━━━━━\u001b[0m\u001b[37m\u001b[0m \u001b[1m134s\u001b[0m 36ms/step - accuracy: 0.9791 - loss: 0.0623 - val_accuracy: 0.9037 - val_loss: 0.3107\n",
      "Epoch 12/15\n",
      "\u001b[1m3750/3750\u001b[0m \u001b[32m━━━━━━━━━━━━━━━━━━━━\u001b[0m\u001b[37m\u001b[0m \u001b[1m139s\u001b[0m 37ms/step - accuracy: 0.9823 - loss: 0.0555 - val_accuracy: 0.9040 - val_loss: 0.3564\n",
      "Epoch 13/15\n",
      "\u001b[1m3750/3750\u001b[0m \u001b[32m━━━━━━━━━━━━━━━━━━━━\u001b[0m\u001b[37m\u001b[0m \u001b[1m145s\u001b[0m 39ms/step - accuracy: 0.9841 - loss: 0.0501 - val_accuracy: 0.9035 - val_loss: 0.3453\n",
      "Epoch 14/15\n",
      "\u001b[1m3750/3750\u001b[0m \u001b[32m━━━━━━━━━━━━━━━━━━━━\u001b[0m\u001b[37m\u001b[0m \u001b[1m165s\u001b[0m 44ms/step - accuracy: 0.9842 - loss: 0.0480 - val_accuracy: 0.9013 - val_loss: 0.3644\n",
      "Epoch 15/15\n",
      "\u001b[1m3750/3750\u001b[0m \u001b[32m━━━━━━━━━━━━━━━━━━━━\u001b[0m\u001b[37m\u001b[0m \u001b[1m163s\u001b[0m 43ms/step - accuracy: 0.9862 - loss: 0.0424 - val_accuracy: 0.9022 - val_loss: 0.3847\n"
     ]
    },
    {
     "data": {
      "text/plain": [
       "<keras.src.callbacks.history.History at 0x7fa1dc8bb130>"
      ]
     },
     "execution_count": 15,
     "metadata": {},
     "output_type": "execute_result"
    }
   ],
   "source": [
    "gru_model = Sequential([\n",
    "    Embedding(input_dim=len(word_index)+1, output_dim=embedding_dim, weights=[embedding_matrix], input_length=max_length, trainable=False),\n",
    "    GRU(128),\n",
    "    Dense(64, activation='relu'),\n",
    "    Dense(1, activation='sigmoid')\n",
    "])\n",
    "gru_model.compile(optimizer='adam', loss='binary_crossentropy', metrics=['accuracy'])\n",
    "gru_model.fit(X_train, y_train, epochs=15, batch_size=32, validation_data=(X_test, y_test))\n"
   ]
  },
  {
   "cell_type": "markdown",
   "metadata": {},
   "source": [
    "### Accuracy Comparison\n",
    "- The accuracies of Logistic Regression, SVM, ANN, LSTM, and GRU are compared.\n",
    "- A bar plot is created to visualize the performance of each model.\n"
   ]
  },
  {
   "cell_type": "code",
   "execution_count": null,
   "metadata": {},
   "outputs": [
    {
     "data": {
      "image/png": "[encoded data removed]",
      "text/plain": [
       "<Figure size 1000x600 with 1 Axes>"
      ]
     },
     "metadata": {},
     "output_type": "display_data"
    }
   ],
   "source": [
    "lr_accuracy = accuracy_score(y_test_tfidf, lr_predictions)\n",
    "svm_accuracy = accuracy_score(y_test_tfidf, svm_predictions)\n",
    "ann_accuracy = ann_model.evaluate(X_test, y_test, verbose=0)[1]\n",
    "lstm_accuracy = lstm_model.evaluate(X_test, y_test, verbose=0)[1]\n",
    "gru_accuracy = gru_model.evaluate(X_test, y_test, verbose=0)[1]\n",
    "\n",
    "model_names = ['Logistic Regression', 'SVM', 'ANN', 'LSTM', 'GRU']\n",
    "accuracies = [lr_accuracy, svm_accuracy, ann_accuracy, lstm_accuracy, gru_accuracy]\n",
    "\n",
    "plt.figure(figsize=(10, 6))\n",
    "plt.bar(model_names, accuracies, alpha=0.7, edgecolor='black')\n",
    "plt.title('Model Accuracy Comparison')\n",
    "plt.xlabel('Models')\n",
    "plt.ylabel('Accuracy')\n",
    "plt.ylim(0, 1)\n",
    "for i, acc in enumerate(accuracies):\n",
    "    plt.text(i, acc + 0.02, f\"{acc:.2f}\", ha='center', fontsize=10)\n",
    "plt.show()"
   ]
  },
  {
   "cell_type": "markdown",
   "metadata": {},
   "source": [
    "### Prediction Function\n",
    "- A function is defined to predict sentiment for user-input text.\n",
    "- The text is preprocessed, tokenized, and padded before being fed into the LSTM model.\n",
    "- The predicted sentiment (positive or negative) and confidence score are displayed.\n"
   ]
  },
  {
   "cell_type": "code",
   "execution_count": null,
   "metadata": {},
   "outputs": [
    {
     "name": "stdout",
     "output_type": "stream",
     "text": [
      "\u001b[1m1/1\u001b[0m \u001b[32m━━━━━━━━━━━━━━━━━━━━\u001b[0m\u001b[37m\u001b[0m \u001b[1m0s\u001b[0m 198ms/step\n",
      "Review: Absolutely fantastic! The product exceeded my expectations in every way. Highly recommended!\n",
      "Sentiment: Positive\n",
      "\u001b[1m1/1\u001b[0m \u001b[32m━━━━━━━━━━━━━━━━━━━━\u001b[0m\u001b[37m\u001b[0m \u001b[1m0s\u001b[0m 31ms/step\n",
      "Review: Terrible experience. The product stopped working after just one use. Very disappointed.\n",
      "Sentiment: Negative\n",
      "\u001b[1m1/1\u001b[0m \u001b[32m━━━━━━━━━━━━━━━━━━━━\u001b[0m\u001b[37m\u001b[0m \u001b[1m0s\u001b[0m 34ms/step\n",
      "Review: The quality is awful, and it doesn’t match the description at all. Waste of money.\n",
      "Sentiment: Negative\n",
      "\u001b[1m1/1\u001b[0m \u001b[32m━━━━━━━━━━━━━━━━━━━━\u001b[0m\u001b[37m\u001b[0m \u001b[1m0s\u001b[0m 32ms/step\n",
      "Review: I was skeptical at first, but this product has completely won me over. From the packaging to the performance, everything about it screams quality. It arrived on time, and setting it up was a breeze thanks to the detailed instructions provided. I've been using it for a few weeks now, and it’s been working flawlessly without any issues. The materials feel premium, and it looks great too. What impressed me the most is how well it performs under heavy use—truly above and beyond my expectations. Plus, the customer service team was incredibly responsive when I had a minor question. If you're on the fence about buying this, just go for it—you won't regret it!\n",
      "Sentiment: Positive\n",
      "\u001b[1m1/1\u001b[0m \u001b[32m━━━━━━━━━━━━━━━━━━━━\u001b[0m\u001b[37m\u001b[0m \u001b[1m0s\u001b[0m 33ms/step\n",
      "Review: Do not buy this! It’s overpriced and breaks easily. Horrible quality.\n",
      "Sentiment: Negative\n",
      "\u001b[1m1/1\u001b[0m \u001b[32m━━━━━━━━━━━━━━━━━━━━\u001b[0m\u001b[37m\u001b[0m \u001b[1m0s\u001b[0m 36ms/step\n",
      "Review: Amazing value for the price! This is by far one of the best purchases I've ever made.\n",
      "Sentiment: Positive\n",
      "\u001b[1m1/1\u001b[0m \u001b[32m━━━━━━━━━━━━━━━━━━━━\u001b[0m\u001b[37m\u001b[0m \u001b[1m0s\u001b[0m 37ms/step\n",
      "Review: I’ve never been more disappointed with a purchase. The product looked good in the photos, but in reality, it’s poorly made and feels cheap. It worked fine for the first few days, but then it started malfunctioning. Now it’s completely unusable, and I’m left frustrated. To make matters worse, the warranty policy is a joke—they refused to replace it because they claimed the damage was my fault, even though I followed all the instructions. I’ve wasted my hard-earned money on this, and I wouldn’t recommend it to anyone. It’s such a shame because I had really hoped this would meet my needs.\n",
      "Sentiment: Negative\n",
      "\u001b[1m1/1\u001b[0m \u001b[32m━━━━━━━━━━━━━━━━━━━━\u001b[0m\u001b[37m\u001b[0m \u001b[1m0s\u001b[0m 33ms/step\n",
      "Review: I regret buying this. It’s poorly made, and the customer support is unhelpful.\n",
      "Sentiment: Negative\n",
      "\u001b[1m1/1\u001b[0m \u001b[32m━━━━━━━━━━━━━━━━━━━━\u001b[0m\u001b[37m\u001b[0m \u001b[1m0s\u001b[0m 34ms/step\n",
      "Review: I love this! It’s exactly what I was looking for and performs flawlessly.\n",
      "Sentiment: Positive\n",
      "\u001b[1m1/1\u001b[0m \u001b[32m━━━━━━━━━━━━━━━━━━━━\u001b[0m\u001b[37m\u001b[0m \u001b[1m0s\u001b[0m 33ms/step\n",
      "Review: I had high hopes for this product based on the reviews, but it turned out to be a complete disaster. It arrived late, and when I finally opened the package, I noticed scratches and dents on the surface—it looked like it had already been used. Setting it up was a nightmare because the instructions were unclear and missing key details. After spending hours trying to get it to work, I discovered that some parts were defective. The worst part? When I reached out to customer support, they took forever to respond and were unhelpful when they finally did. For the price I paid, I expected much better quality and service. Save yourself the trouble and look for a better option.\n",
      "Sentiment: Negative\n",
      "Exiting...\n"
     ]
    }
   ],
   "source": [
    "def predict_sentiment(user_input, model, tokenizer, max_length):\n",
    "    processed_input = preprocess_text(user_input)\n",
    "    sequence = tokenizer.texts_to_sequences([processed_input])\n",
    "    padded_sequence = pad_sequences(sequence, maxlen=max_length, padding='post', truncating='post')\n",
    "    prediction = model.predict(padded_sequence)\n",
    "    sentiment = \"Positive\" if prediction >= 0.5 else \"Negative\"\n",
    "    return sentiment, prediction[0][0]\n",
    "\n",
    "while True:\n",
    "    user_input = input(\"Enter a review (or type 'exit' to quit): \")\n",
    "    if user_input.lower() == 'exit':\n",
    "        print(\"Exiting...\")\n",
    "        break\n",
    "    sentiment, confidence = predict_sentiment(user_input, lstm_model, tokenizer, max_length)\n",
    "    print(f\"Review: {user_input}\")\n",
    "    print(f\"Sentiment: {sentiment}\")"
   ]
  }
 ],
 "metadata": {
  "kernelspec": {
   "display_name": "Python 3",
   "language": "python",
   "name": "python3"
  },
  "language_info": {
   "codemirror_mode": {
    "name": "ipython",
    "version": 3
   },
   "file_extension": ".py",
   "mimetype": "text/x-python",
   "name": "python",
   "nbconvert_exporter": "python",
   "pygments_lexer": "ipython3",
   "version": "3.9.12"
  }
 },
 "nbformat": 4,
 "nbformat_minor": 4
}
